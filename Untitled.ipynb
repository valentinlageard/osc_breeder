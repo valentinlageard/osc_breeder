{
 "cells": [
  {
   "cell_type": "code",
   "execution_count": 1,
   "metadata": {},
   "outputs": [],
   "source": [
    "import gep\n",
    "import pyo"
   ]
  },
  {
   "cell_type": "code",
   "execution_count": 9,
   "metadata": {},
   "outputs": [
    {
     "name": "stdout",
     "output_type": "stream",
     "text": [
      "Pyo warning: Portmidi warning: could not open midi input 1 (Midi Through Port-0): PortMidi: `Invalid device ID'\n",
      "Pyo warning: Portmidi warning: could not open midi output 0 (Midi Through Port-0): PortMidi: `Invalid device ID'\n",
      "Pyo warning: Portmidi closed.\n"
     ]
    },
    {
     "data": {
      "text/plain": [
       "<pyo.lib.server.Server at 0x7fdb37d22240>"
      ]
     },
     "execution_count": 9,
     "metadata": {},
     "output_type": "execute_result"
    }
   ],
   "source": [
    "from pyo import *\n",
    "s = Server(sr=22050, buffersize=1024).boot() # Boot the audio server\n",
    "s.start() # Start the audio server"
   ]
  },
  {
   "cell_type": "code",
   "execution_count": 10,
   "metadata": {},
   "outputs": [
    {
     "name": "stdout",
     "output_type": "stream",
     "text": [
      "Pyo warning: Server already started!\n"
     ]
    },
    {
     "data": {
      "text/plain": [
       "<pyo.lib.server.Server at 0x7fdb37d22240>"
      ]
     },
     "execution_count": 10,
     "metadata": {},
     "output_type": "execute_result"
    }
   ],
   "source": [
    "s.start()\n",
    "#s.stop() # Stop the audio server"
   ]
  },
  {
   "cell_type": "code",
   "execution_count": 12,
   "metadata": {},
   "outputs": [],
   "source": [
    "def lerp(x, x_a, x_b, y_a, y_b):\n",
    "    return (y_a + (y_b - y_a) * ((x - x_a)/(x_b - x_a)))\n",
    "\n",
    "def nlerp(x, y_a, y_b):\n",
    "    return (lerp(x, 0, 1, y_a, y_b))"
   ]
  },
  {
   "cell_type": "code",
   "execution_count": 78,
   "metadata": {},
   "outputs": [],
   "source": [
    "def fsine(f=0.5, mul=0.5, add=0.5):\n",
    "    return pyo.FastSine(freq = nlerp(f, 20, 5000),\n",
    "                        initphase = 0,\n",
    "                        quality = 1,\n",
    "                        mul = mul,\n",
    "                        add = add)\n",
    "\n",
    "def "
   ]
  },
  {
   "cell_type": "code",
   "execution_count": 80,
   "metadata": {},
   "outputs": [
    {
     "name": "stdout",
     "output_type": "stream",
     "text": [
      "< Instance of FastSine class >\n"
     ]
    }
   ],
   "source": [
    "a = fsine(0.5, 0.1, 0.9)\n",
    "print(a)"
   ]
  },
  {
   "cell_type": "code",
   "execution_count": 81,
   "metadata": {},
   "outputs": [
    {
     "data": {
      "text/plain": [
       "< Instance of FastSine class >"
      ]
     },
     "execution_count": 81,
     "metadata": {},
     "output_type": "execute_result"
    }
   ],
   "source": [
    "a.out()"
   ]
  },
  {
   "cell_type": "code",
   "execution_count": 82,
   "metadata": {},
   "outputs": [
    {
     "data": {
      "text/plain": [
       "< Instance of FastSine class >"
      ]
     },
     "execution_count": 82,
     "metadata": {},
     "output_type": "execute_result"
    }
   ],
   "source": [
    "a.stop()"
   ]
  },
  {
   "cell_type": "code",
   "execution_count": null,
   "metadata": {},
   "outputs": [],
   "source": []
  },
  {
   "cell_type": "code",
   "execution_count": 88,
   "metadata": {},
   "outputs": [],
   "source": [
    "pset = gep.PrimitiveSet()\n",
    "pset.add_function(fsine, 3)"
   ]
  },
  {
   "cell_type": "code",
   "execution_count": 89,
   "metadata": {},
   "outputs": [],
   "source": [
    "population = gep.Population()\n",
    "population.generate(20, pset, 25)"
   ]
  },
  {
   "cell_type": "code",
   "execution_count": 128,
   "metadata": {
    "scrolled": true
   },
   "outputs": [
    {
     "name": "stdout",
     "output_type": "stream",
     "text": [
      "[fsine, 0.698, 0.609, fsine, fsine, 0.698, 0.018, fsine, fsine, fsine, 0.201, 0.884, 0.347, 0.882, 0.278, fsine, 0.028, fsine, fsine, 0.398, fsine, fsine, fsine, 0.587, fsine, 0.911, 0.797, 0.131, 0.845, 0.575, 0.267, 0.578, 0.178, 0.388, 0.791, 0.062, 0.791, 0.923, 0.048, 0.809, 0.765, 0.809, 0.894, 0.651, 0.504, 0.954, 0.564, 0.575, 0.786, 0.174, 0.342, 0.871, 0.264, 0.938, 0.253, 0.951, 0.166, 0.242, 0.674, 0.074, 0.96, 0.491, 0.044, 0.768, 0.65, 0.834, 0.151, 0.754, 0.459, 0.319, 0.865, 0.725, 0.86, 0.253, 0.531, 0.954]\n",
      "fsine(0.6975109672000652, 0.6091314321601485, fsine(fsine(fsine(0.20075216371226878, 0.8844462738320427, 0.34683466705809063), fsine(0.8815852634511403, 0.27767813797347185, fsine(0.3980555067401099, fsine(0.8445306533156629, 0.5750390740314967, 0.2669746371327242), fsine(0.5783219088917397, 0.17796265958716628, 0.38809069995582524))), fsine(0.027860312731929016, fsine(fsine(0.7910313892336508, 0.06223857800351795, 0.7907177311084531), 0.5872069363056365, fsine(0.9232949623369432, 0.048194032557551614, 0.8090268838278283)), fsine(0.9108888805058937, 0.7970190730548682, 0.13119307757602405))), 0.6981892809316502, 0.01782074821927715))\n"
     ]
    }
   ],
   "source": [
    "index = 11\n",
    "print(population.individuals[index].gene.genome)\n",
    "print(str(population.individuals[index].gene))"
   ]
  },
  {
   "cell_type": "code",
   "execution_count": 129,
   "metadata": {},
   "outputs": [
    {
     "name": "stdout",
     "output_type": "stream",
     "text": [
      "< Instance of FastSine class >\n"
     ]
    }
   ],
   "source": [
    "#a = eval(str(population.individuals[index].gene))\n",
    "a = eval(str(population.individuals[index].gene))\n",
    "print(a)"
   ]
  },
  {
   "cell_type": "code",
   "execution_count": 130,
   "metadata": {},
   "outputs": [],
   "source": [
    "if isinstance(a, PyoObject):\n",
    "    a.out()"
   ]
  },
  {
   "cell_type": "code",
   "execution_count": 131,
   "metadata": {},
   "outputs": [
    {
     "data": {
      "text/plain": [
       "< Instance of FastSine class >"
      ]
     },
     "execution_count": 131,
     "metadata": {},
     "output_type": "execute_result"
    }
   ],
   "source": [
    "a.stop()"
   ]
  },
  {
   "cell_type": "code",
   "execution_count": null,
   "metadata": {},
   "outputs": [],
   "source": [
    "new_population = gep.get_next_generation(population)"
   ]
  }
 ],
 "metadata": {
  "kernelspec": {
   "display_name": "Python 3",
   "language": "python",
   "name": "python3"
  },
  "language_info": {
   "codemirror_mode": {
    "name": "ipython",
    "version": 3
   },
   "file_extension": ".py",
   "mimetype": "text/x-python",
   "name": "python",
   "nbconvert_exporter": "python",
   "pygments_lexer": "ipython3",
   "version": "3.6.8"
  }
 },
 "nbformat": 4,
 "nbformat_minor": 2
}

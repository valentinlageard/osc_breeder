{
 "cells": [
  {
   "cell_type": "code",
   "execution_count": 1,
   "metadata": {},
   "outputs": [],
   "source": [
    "import gep\n",
    "import pyo"
   ]
  },
  {
   "cell_type": "code",
   "execution_count": 2,
   "metadata": {},
   "outputs": [],
   "source": [
    "s = pyo.Server(sr=22050, buffersize=1024).boot() # Boot the audio server"
   ]
  },
  {
   "cell_type": "code",
   "execution_count": 3,
   "metadata": {},
   "outputs": [
    {
     "data": {
      "text/plain": [
       "<pyo.lib.server.Server at 0x7f9e9e87de10>"
      ]
     },
     "execution_count": 3,
     "metadata": {},
     "output_type": "execute_result"
    }
   ],
   "source": [
    "s.start() # Start the audio server\n",
    "#s.stop() # Stop the audio server"
   ]
  },
  {
   "cell_type": "code",
   "execution_count": 4,
   "metadata": {},
   "outputs": [],
   "source": [
    "# Interpolations utility\n",
    "def lerp(x, x_a, x_b, y_a, y_b):\n",
    "    return (y_a + (y_b - y_a) * ((x - x_a)/(x_b - x_a)))\n",
    "\n",
    "def nlerp(x, y_a, y_b):\n",
    "    return (lerp(x, 0, 1, y_a, y_b))"
   ]
  },
  {
   "cell_type": "code",
   "execution_count": 5,
   "metadata": {},
   "outputs": [],
   "source": [
    "# Define wrapper functions around ugens\n",
    "def blit(f=0.5, harms=0.5):\n",
    "    return pyo.Blit(freq=nlerp(f, 27, 6912),\n",
    "                    harms=nlerp(harms, 0, 100))\n",
    "\n",
    "def crossfm(f=0.5, ratio=0.5, ind1=0.5, ind2=0.5):\n",
    "    return pyo.CrossFM(carrier=nlerp(f, 27, 6912),\n",
    "                       ratio=ratio,\n",
    "                       ind1=nlerp(ind1, 0, 2),\n",
    "                       ind2=nlerp(ind2, 0, 2))\n",
    "\n",
    "def fsine(f=0.5):\n",
    "    return pyo.FastSine(freq=nlerp(f, 27, 6912),\n",
    "                        initphase=0,\n",
    "                        quality=1)\n",
    "\n",
    "def phasor(f=0.5, phase=0.5):\n",
    "    return pyo.Phasor(freq=nlerp(f, 27, 6912),\n",
    "                      phase=phase)\n",
    "\n",
    "def rcosc(f=0.5, sharp=0.5):\n",
    "    return pyo.RCOsc(freq=nlerp(f, 27, 6912),\n",
    "                     sharp=sharp)\n",
    "\n",
    "def sineloop(f=0.5, feedback=0.5):\n",
    "    return pyo.SineLoop(freq=nlerp(f, 27, 6912),\n",
    "                        feedback=feedback)\n",
    "\n",
    "def supersaw(f=0.5, detune=0.5, bal=0.5):\n",
    "    return pyo.SuperSaw(freq=nlerp(f, 27, 6912),\n",
    "                        detune=detune,\n",
    "                        bal=bal)\n",
    "\n",
    "def sawuplfo(f=0.5, sharp=0.5):\n",
    "    return pyo.LFO(freq=nlerp(f, 0.1, 10),\n",
    "                   sharp=sharp,\n",
    "                   type=0)\n",
    "\n",
    "def sawdownlfo(f=0.5, sharp=0.5):\n",
    "    return pyo.LFO(freq=nlerp(f, 0.1, 10),\n",
    "                   sharp=sharp,\n",
    "                   type=1)\n",
    "\n",
    "def squarelfo(f=0.5, sharp=0.5):\n",
    "    return pyo.LFO(freq=nlerp(f, 0.1, 10),\n",
    "                   sharp=sharp,\n",
    "                   type=2)\n",
    "\n",
    "def trilfo(f=0.5, sharp=0.5):\n",
    "    return pyo.LFO(freq=nlerp(f, 0.1, 10),\n",
    "                   sharp=sharp,\n",
    "                   type=3)\n",
    "\n",
    "def pulselfo(f=0.5, sharp=0.5):\n",
    "    return pyo.LFO(freq=nlerp(f, 0.1, 10),\n",
    "                   sharp=sharp,\n",
    "                   type=4)\n",
    "\n",
    "def bipulselfo(f=0.5, sharp=0.5):\n",
    "    return pyo.LFO(freq=nlerp(f, 0.1, 10),\n",
    "                   sharp=sharp,\n",
    "                   type=5)\n",
    "\n",
    "def shlfo(f=0.5, sharp=0.5):\n",
    "    return pyo.LFO(freq=nlerp(f, 0.1, 10),\n",
    "                   sharp=sharp,\n",
    "                   type=6)\n",
    "\n",
    "def modsinelfo(f=0.5, sharp=0.5):\n",
    "    return pyo.LFO(freq=nlerp(f, 0.1, 10),\n",
    "                   sharp=sharp,\n",
    "                   type=7)"
   ]
  },
  {
   "cell_type": "code",
   "execution_count": 6,
   "metadata": {},
   "outputs": [],
   "source": [
    "# Create the primitives set\n",
    "pset = gep.PrimitiveSet()\n",
    "pset.add_function(blit, 2)\n",
    "pset.add_function(crossfm, 4)\n",
    "pset.add_function(fsine, 1)\n",
    "pset.add_function(phasor, 2)\n",
    "pset.add_function(rcosc, 2)\n",
    "pset.add_function(sineloop, 2)\n",
    "pset.add_function(supersaw, 3)\n",
    "pset.add_function(sawuplfo, 2)\n",
    "pset.add_function(sawdownlfo, 2)\n",
    "pset.add_function(squarelfo, 2)\n",
    "pset.add_function(trilfo, 2)\n",
    "pset.add_function(pulselfo, 2)\n",
    "pset.add_function(bipulselfo, 2)\n",
    "pset.add_function(shlfo, 2)\n",
    "pset.add_function(modsinelfo, 2)"
   ]
  },
  {
   "cell_type": "code",
   "execution_count": 7,
   "metadata": {},
   "outputs": [],
   "source": [
    "# Simple interface\n",
    "def interface():\n",
    "    global population\n",
    "    synth = None\n",
    "    for i, individual in enumerate(population.individuals):\n",
    "        print(i, repr(individual.gene.genome))\n",
    "    while True:\n",
    "        read = input(\"Listen synth [1-16] | [S]top synth | [R]eproduce | Fitness : [1-16]=[0.0-1.0] \\n>>> \")\n",
    "        if read == \"S\" or read == \"s\":\n",
    "            synth.stop()\n",
    "        elif read == \"R\" or read == \"r\":\n",
    "            population = gep.get_next_generation(population)\n",
    "            for i, individual in enumerate(population.individuals):\n",
    "                print(i, repr(individual.gene.genome))\n",
    "        elif \"=\" in read:\n",
    "            read_split = read.split(\"=\")\n",
    "            population.individuals[int(read_split[0]) - 1].fitness = float(read_split[1])\n",
    "            print(\"Fitness of {} is set to {}\".format(int(read_split[0]) - 1, population.individuals[int(read_split[0]) - 1].fitness))\n",
    "        elif read.isnumeric():\n",
    "            if synth is not None and isinstance(synth, pyo.PyoObject):\n",
    "                synth.stop()\n",
    "            synth = eval(str(population.individuals[int(read) - 1].gene))\n",
    "            if isinstance(synth, pyo.PyoObject):\n",
    "                print(str(population.individuals[int(read) - 1].gene))\n",
    "                synth.out()\n",
    "            else:\n",
    "                print(\"Empty synth\")"
   ]
  },
  {
   "cell_type": "code",
   "execution_count": 8,
   "metadata": {},
   "outputs": [
    {
     "name": "stdout",
     "output_type": "stream",
     "text": [
      "0 [0.237, bipulselfo, pulselfo, bipulselfo, 0.134, 0.153, 0.469, rcosc, sineloop, 0.493, 0.052, 0.329, 0.334, sawdownlfo, 0.32, blit, 0.023, 0.815, 0.218, 0.561, 0.572, 0.852, 0.081, 0.56, 0.832, 0.914, 0.025, 0.374, 0.574, 0.629, 0.469, 0.361, 0.596, 0.341, 0.245, 0.986, 0.113, 0.071, 0.44, 0.404, 0.969, 0.892, 0.576, 0.049, 0.896, 0.51, 0.013, 0.68, 0.075, 0.315, 0.434, 0.776, 0.059, 0.683, 0.18, 0.386, 0.355, 0.586, 0.32, 0.423, 0.1, 0.64, 0.657, 0.221, 0.551]\n",
      "1 [0.263, phasor, 0.043, 0.193, squarelfo, supersaw, blit, pulselfo, 0.931, 0.778, 0.323, squarelfo, 0.28, 0.326, blit, modsinelfo, 0.6, 0.335, 0.284, 0.757, 0.79, 0.715, 0.79, 0.64, 0.837, 0.896, 0.91, 0.041, 0.572, 0.81, 0.101, 0.636, 0.05, 0.044, 0.198, 0.0, 0.418, 0.627, 0.048, 0.661, 0.317, 0.018, 0.105, 0.148, 0.829, 0.401, 0.324, 0.673, 0.399, 0.143, 0.852, 0.132, 0.996, 0.095, 0.263, 0.261, 0.002, 0.562, 0.241, 0.161, 0.973, 0.03, 0.295, 0.089, 0.993]\n",
      "2 [bipulselfo, 0.32, 0.408, 0.293, 0.739, squarelfo, 0.539, crossfm, 0.595, 0.143, 0.059, trilfo, modsinelfo, fsine, sawdownlfo, 0.918, 0.824, 0.833, 0.347, 0.468, 0.548, 0.76, 0.098, 0.577, 0.946, 0.352, 0.694, 0.63, 0.403, 0.191, 0.803, 0.309, 0.25, 0.48, 0.963, 0.437, 0.732, 0.456, 0.729, 0.248, 0.678, 0.596, 0.28, 0.261, 0.122, 0.984, 0.475, 0.517, 0.343, 0.071, 0.227, 0.917, 0.686, 0.835, 0.139, 0.257, 0.376, 0.924, 0.761, 0.743, 0.379, 0.017, 0.283, 0.705, 0.47]\n",
      "3 [phasor, 0.36, 0.271, phasor, 0.285, 0.104, 0.981, modsinelfo, 0.777, 0.913, 0.515, fsine, supersaw, 0.288, supersaw, 0.334, 0.024, 0.44, 0.43, 0.722, 0.356, 0.919, 0.379, 0.755, 0.326, 0.897, 0.323, 0.19, 0.149, 0.476, 0.507, 0.609, 0.247, 0.464, 0.449, 0.464, 0.833, 0.2, 0.162, 0.78, 0.404, 0.617, 0.403, 0.715, 0.119, 0.27, 0.447, 0.205, 0.333, 0.342, 0.869, 0.907, 0.887, 0.272, 0.691, 0.517, 0.607, 0.036, 0.506, 0.222, 0.59, 0.206, 0.966, 0.907, 0.513]\n",
      "4 [0.027, 0.719, 0.154, supersaw, squarelfo, blit, crossfm, shlfo, 0.781, 0.4, 0.529, 0.094, 0.545, pulselfo, 0.922, 0.507, 0.869, 0.736, 0.479, 0.935, 0.985, 0.049, 0.429, 0.853, 0.896, 0.411, 0.93, 0.452, 0.736, 0.585, 0.615, 0.45, 0.426, 0.561, 0.79, 0.08, 0.978, 0.546, 0.19, 0.274, 0.312, 0.531, 0.467, 0.425, 0.089, 0.502, 0.775, 0.682, 0.835, 0.372, 0.902, 0.824, 0.369, 0.355, 0.566, 0.995, 0.77, 0.132, 0.423, 0.42, 0.56, 0.686, 0.972, 0.181, 0.342]\n",
      "5 [0.545, 0.73, crossfm, sawuplfo, 0.625, rcosc, bipulselfo, 0.085, 0.912, modsinelfo, 0.425, pulselfo, 0.589, rcosc, shlfo, supersaw, 0.43, 0.282, 0.281, 0.284, 0.354, 0.461, 0.777, 0.351, 0.466, 0.904, 0.169, 0.857, 0.932, 0.485, 0.328, 0.721, 0.372, 0.347, 0.288, 0.893, 0.285, 0.741, 0.279, 0.026, 0.186, 0.02, 0.696, 0.007, 0.43, 0.25, 0.901, 0.102, 0.025, 0.785, 0.371, 0.091, 0.737, 0.431, 0.112, 0.745, 0.139, 0.504, 0.746, 0.922, 0.157, 0.787, 0.06, 0.382, 0.005]\n",
      "6 [shlfo, modsinelfo, shlfo, trilfo, squarelfo, 0.221, 0.979, crossfm, 0.028, phasor, pulselfo, rcosc, sineloop, 0.371, 0.99, 0.766, 0.838, 0.869, 0.842, 0.675, 0.601, 0.585, 0.916, 0.071, 0.733, 0.404, 0.59, 0.746, 0.385, 0.327, 0.866, 0.426, 0.756, 0.205, 0.049, 0.105, 0.169, 0.188, 0.316, 0.437, 0.451, 0.473, 0.205, 0.747, 0.693, 0.334, 0.183, 0.127, 0.364, 0.91, 0.42, 0.67, 0.44, 0.875, 0.839, 0.723, 0.396, 0.127, 0.138, 0.692, 0.306, 0.632, 0.542, 0.606, 0.331]\n",
      "7 [shlfo, sawdownlfo, 0.564, phasor, trilfo, 0.859, trilfo, rcosc, 0.24, trilfo, sawuplfo, 0.911, 0.636, shlfo, 0.659, sawuplfo, 0.652, 0.78, 0.3, 0.532, 0.072, 0.205, 0.953, 0.451, 0.305, 0.921, 0.899, 0.41, 0.702, 0.65, 0.604, 0.371, 0.148, 0.931, 0.267, 0.758, 0.097, 0.218, 0.901, 0.42, 0.748, 0.357, 0.219, 0.69, 0.153, 0.744, 0.388, 0.242, 0.772, 0.144, 0.887, 0.861, 0.128, 0.243, 0.647, 0.872, 0.401, 0.946, 0.252, 0.549, 0.095, 0.943, 0.918, 0.167, 0.561]\n",
      "8 [0.123, supersaw, 0.837, 0.246, 0.144, 0.117, 0.316, 0.334, sawdownlfo, bipulselfo, supersaw, 0.847, trilfo, 0.868, phasor, fsine, 0.67, 0.156, 0.534, 0.698, 0.476, 0.668, 0.691, 0.231, 0.393, 0.057, 0.237, 0.494, 0.33, 0.098, 0.986, 0.378, 0.37, 0.415, 0.751, 0.076, 0.236, 0.567, 0.77, 0.229, 0.884, 0.69, 0.388, 0.311, 0.971, 0.237, 0.101, 0.734, 0.032, 0.853, 0.754, 0.531, 0.002, 0.264, 0.032, 0.362, 0.093, 0.73, 0.44, 0.074, 0.155, 0.901, 0.335, 0.888, 0.135]\n",
      "9 [0.389, pulselfo, 0.118, squarelfo, 0.587, 0.872, 0.723, fsine, modsinelfo, sawdownlfo, blit, supersaw, blit, supersaw, 0.807, 0.211, 0.173, 0.527, 0.321, 0.559, 0.715, 0.795, 0.012, 0.191, 0.585, 0.499, 0.295, 0.925, 0.647, 0.155, 0.049, 0.106, 0.479, 0.71, 0.457, 0.086, 0.076, 0.539, 0.176, 0.362, 0.486, 0.75, 0.141, 0.21, 0.203, 0.658, 0.485, 0.516, 0.766, 0.825, 0.673, 0.814, 0.773, 0.174, 0.856, 0.067, 0.247, 0.503, 0.188, 0.203, 0.758, 0.209, 0.362, 0.477, 0.223]\n",
      "10 [0.004, sawuplfo, 0.361, 0.522, sineloop, bipulselfo, 0.073, 0.644, rcosc, 0.96, supersaw, phasor, shlfo, shlfo, 0.106, supersaw, 0.189, 0.828, 0.997, 0.192, 0.709, 0.574, 0.311, 0.574, 0.419, 0.218, 0.607, 0.244, 0.801, 0.175, 0.812, 0.787, 0.787, 0.146, 0.07, 0.818, 0.449, 0.783, 0.415, 0.199, 0.544, 0.621, 0.718, 0.47, 0.539, 0.487, 0.136, 0.818, 0.243, 0.662, 0.973, 0.945, 0.381, 0.523, 0.281, 0.188, 0.632, 0.134, 0.219, 0.918, 0.712, 0.436, 0.026, 0.925, 0.56]\n",
      "11 [bipulselfo, sineloop, 0.467, sineloop, rcosc, rcosc, 0.876, 0.501, sawdownlfo, squarelfo, shlfo, rcosc, pulselfo, pulselfo, 0.247, 0.509, 0.649, 0.175, 0.853, 0.857, 0.83, 0.251, 0.725, 0.373, 0.386, 0.443, 0.506, 0.867, 0.933, 0.032, 0.539, 0.46, 0.354, 0.418, 0.129, 0.418, 0.351, 0.734, 0.984, 0.194, 0.574, 0.912, 0.383, 0.701, 0.429, 0.6, 0.975, 0.051, 0.383, 0.503, 0.272, 0.548, 0.621, 0.874, 0.331, 0.945, 0.942, 0.501, 0.148, 0.616, 0.475, 0.446, 0.485, 0.725, 0.541]\n",
      "12 [0.874, phasor, trilfo, 0.131, shlfo, 0.817, phasor, pulselfo, sawdownlfo, 0.404, modsinelfo, squarelfo, pulselfo, 0.33, 0.175, phasor, 0.401, 0.325, 0.43, 0.096, 0.511, 0.989, 0.118, 0.118, 0.175, 0.021, 0.975, 0.067, 0.508, 0.537, 0.484, 0.356, 0.056, 0.775, 0.378, 0.317, 0.679, 0.533, 0.815, 0.955, 0.115, 0.033, 0.012, 0.869, 0.845, 0.686, 0.106, 0.165, 0.275, 0.575, 0.852, 0.74, 0.469, 0.884, 0.544, 0.938, 0.893, 0.335, 0.878, 0.44, 0.542, 0.732, 0.551, 0.146, 0.537]\n",
      "13 [0.582, supersaw, squarelfo, phasor, trilfo, phasor, 0.284, 0.529, sineloop, 0.946, 0.236, blit, rcosc, 0.557, 0.792, sineloop, 0.234, 0.275, 0.977, 0.979, 0.83, 0.893, 0.204, 0.686, 0.63, 0.729, 0.061, 0.519, 0.132, 0.133, 0.839, 0.285, 0.293, 0.386, 0.152, 0.516, 0.017, 0.753, 0.471, 0.839, 0.183, 0.08, 0.938, 0.008, 0.256, 0.572, 0.101, 0.3, 0.965, 0.163, 0.146, 0.546, 0.148, 0.642, 0.036, 0.798, 0.406, 0.809, 0.74, 0.232, 0.715, 0.98, 0.725, 0.271, 0.551]\n",
      "14 [sineloop, crossfm, pulselfo, fsine, 0.246, sineloop, sineloop, bipulselfo, supersaw, 0.093, 0.19, 0.75, 0.388, trilfo, sineloop, 0.559, 0.205, 0.562, 0.732, 0.188, 0.129, 0.296, 0.193, 0.57, 0.177, 0.204, 0.891, 0.977, 0.592, 0.503, 0.793, 0.115, 0.78, 0.324, 0.475, 0.722, 0.957, 0.694, 0.592, 0.438, 0.842, 0.74, 0.747, 0.277, 0.534, 0.862, 0.867, 0.635, 0.188, 0.764, 0.387, 0.18, 0.051, 0.922, 0.252, 0.727, 0.959, 0.981, 0.404, 0.937, 0.712, 0.01, 0.484, 0.465, 0.121]\n",
      "15 [0.066, 0.997, blit, shlfo, modsinelfo, 0.483, 0.714, 0.854, modsinelfo, rcosc, 0.243, 0.287, 0.593, 0.307, 0.334, 0.477, 0.611, 0.849, 0.998, 0.307, 0.747, 0.14, 0.564, 0.902, 0.741, 0.781, 0.838, 0.365, 0.183, 0.144, 0.865, 0.735, 0.058, 0.206, 0.87, 0.297, 0.738, 0.961, 0.436, 0.108, 0.962, 0.399, 0.322, 0.92, 0.504, 0.857, 0.81, 0.028, 0.438, 0.187, 0.713, 0.55, 0.395, 0.738, 0.731, 0.82, 0.877, 0.251, 0.049, 0.049, 0.063, 0.938, 0.916, 0.302, 0.319]\n"
     ]
    },
    {
     "ename": "KeyboardInterrupt",
     "evalue": "",
     "output_type": "error",
     "traceback": [
      "\u001b[0;31m---------------------------------------------------------------------------\u001b[0m",
      "\u001b[0;31mKeyboardInterrupt\u001b[0m                         Traceback (most recent call last)",
      "\u001b[0;32m/usr/local/lib/python3.6/dist-packages/ipykernel/kernelbase.py\u001b[0m in \u001b[0;36m_input_request\u001b[0;34m(self, prompt, ident, parent, password)\u001b[0m\n\u001b[1;32m    877\u001b[0m             \u001b[0;32mtry\u001b[0m\u001b[0;34m:\u001b[0m\u001b[0;34m\u001b[0m\u001b[0;34m\u001b[0m\u001b[0m\n\u001b[0;32m--> 878\u001b[0;31m                 \u001b[0mident\u001b[0m\u001b[0;34m,\u001b[0m \u001b[0mreply\u001b[0m \u001b[0;34m=\u001b[0m \u001b[0mself\u001b[0m\u001b[0;34m.\u001b[0m\u001b[0msession\u001b[0m\u001b[0;34m.\u001b[0m\u001b[0mrecv\u001b[0m\u001b[0;34m(\u001b[0m\u001b[0mself\u001b[0m\u001b[0;34m.\u001b[0m\u001b[0mstdin_socket\u001b[0m\u001b[0;34m,\u001b[0m \u001b[0;36m0\u001b[0m\u001b[0;34m)\u001b[0m\u001b[0;34m\u001b[0m\u001b[0;34m\u001b[0m\u001b[0m\n\u001b[0m\u001b[1;32m    879\u001b[0m             \u001b[0;32mexcept\u001b[0m \u001b[0mException\u001b[0m\u001b[0;34m:\u001b[0m\u001b[0;34m\u001b[0m\u001b[0;34m\u001b[0m\u001b[0m\n",
      "\u001b[0;32m/usr/local/lib/python3.6/dist-packages/jupyter_client/session.py\u001b[0m in \u001b[0;36mrecv\u001b[0;34m(self, socket, mode, content, copy)\u001b[0m\n\u001b[1;32m    802\u001b[0m         \u001b[0;32mtry\u001b[0m\u001b[0;34m:\u001b[0m\u001b[0;34m\u001b[0m\u001b[0;34m\u001b[0m\u001b[0m\n\u001b[0;32m--> 803\u001b[0;31m             \u001b[0mmsg_list\u001b[0m \u001b[0;34m=\u001b[0m \u001b[0msocket\u001b[0m\u001b[0;34m.\u001b[0m\u001b[0mrecv_multipart\u001b[0m\u001b[0;34m(\u001b[0m\u001b[0mmode\u001b[0m\u001b[0;34m,\u001b[0m \u001b[0mcopy\u001b[0m\u001b[0;34m=\u001b[0m\u001b[0mcopy\u001b[0m\u001b[0;34m)\u001b[0m\u001b[0;34m\u001b[0m\u001b[0;34m\u001b[0m\u001b[0m\n\u001b[0m\u001b[1;32m    804\u001b[0m         \u001b[0;32mexcept\u001b[0m \u001b[0mzmq\u001b[0m\u001b[0;34m.\u001b[0m\u001b[0mZMQError\u001b[0m \u001b[0;32mas\u001b[0m \u001b[0me\u001b[0m\u001b[0;34m:\u001b[0m\u001b[0;34m\u001b[0m\u001b[0;34m\u001b[0m\u001b[0m\n",
      "\u001b[0;32m/usr/local/lib/python3.6/dist-packages/zmq/sugar/socket.py\u001b[0m in \u001b[0;36mrecv_multipart\u001b[0;34m(self, flags, copy, track)\u001b[0m\n\u001b[1;32m    466\u001b[0m         \"\"\"\n\u001b[0;32m--> 467\u001b[0;31m         \u001b[0mparts\u001b[0m \u001b[0;34m=\u001b[0m \u001b[0;34m[\u001b[0m\u001b[0mself\u001b[0m\u001b[0;34m.\u001b[0m\u001b[0mrecv\u001b[0m\u001b[0;34m(\u001b[0m\u001b[0mflags\u001b[0m\u001b[0;34m,\u001b[0m \u001b[0mcopy\u001b[0m\u001b[0;34m=\u001b[0m\u001b[0mcopy\u001b[0m\u001b[0;34m,\u001b[0m \u001b[0mtrack\u001b[0m\u001b[0;34m=\u001b[0m\u001b[0mtrack\u001b[0m\u001b[0;34m)\u001b[0m\u001b[0;34m]\u001b[0m\u001b[0;34m\u001b[0m\u001b[0;34m\u001b[0m\u001b[0m\n\u001b[0m\u001b[1;32m    468\u001b[0m         \u001b[0;31m# have first part already, only loop while more to receive\u001b[0m\u001b[0;34m\u001b[0m\u001b[0;34m\u001b[0m\u001b[0;34m\u001b[0m\u001b[0m\n",
      "\u001b[0;32mzmq/backend/cython/socket.pyx\u001b[0m in \u001b[0;36mzmq.backend.cython.socket.Socket.recv\u001b[0;34m()\u001b[0m\n",
      "\u001b[0;32mzmq/backend/cython/socket.pyx\u001b[0m in \u001b[0;36mzmq.backend.cython.socket.Socket.recv\u001b[0;34m()\u001b[0m\n",
      "\u001b[0;32mzmq/backend/cython/socket.pyx\u001b[0m in \u001b[0;36mzmq.backend.cython.socket._recv_copy\u001b[0;34m()\u001b[0m\n",
      "\u001b[0;32m/usr/local/lib/python3.6/dist-packages/zmq/backend/cython/checkrc.pxd\u001b[0m in \u001b[0;36mzmq.backend.cython.checkrc._check_rc\u001b[0;34m()\u001b[0m\n",
      "\u001b[0;31mKeyboardInterrupt\u001b[0m: ",
      "\nDuring handling of the above exception, another exception occurred:\n",
      "\u001b[0;31mKeyboardInterrupt\u001b[0m                         Traceback (most recent call last)",
      "\u001b[0;32m<ipython-input-8-6b99d5313d7e>\u001b[0m in \u001b[0;36m<module>\u001b[0;34m\u001b[0m\n\u001b[1;32m      2\u001b[0m \u001b[0mpopulation\u001b[0m \u001b[0;34m=\u001b[0m \u001b[0mgep\u001b[0m\u001b[0;34m.\u001b[0m\u001b[0mPopulation\u001b[0m\u001b[0;34m(\u001b[0m\u001b[0;34m)\u001b[0m\u001b[0;34m\u001b[0m\u001b[0;34m\u001b[0m\u001b[0m\n\u001b[1;32m      3\u001b[0m \u001b[0mpopulation\u001b[0m\u001b[0;34m.\u001b[0m\u001b[0mgenerate\u001b[0m\u001b[0;34m(\u001b[0m\u001b[0;36m16\u001b[0m\u001b[0;34m,\u001b[0m \u001b[0mpset\u001b[0m\u001b[0;34m,\u001b[0m \u001b[0;36m16\u001b[0m\u001b[0;34m)\u001b[0m\u001b[0;34m\u001b[0m\u001b[0;34m\u001b[0m\u001b[0m\n\u001b[0;32m----> 4\u001b[0;31m \u001b[0minterface\u001b[0m\u001b[0;34m(\u001b[0m\u001b[0;34m)\u001b[0m\u001b[0;34m\u001b[0m\u001b[0;34m\u001b[0m\u001b[0m\n\u001b[0m",
      "\u001b[0;32m<ipython-input-7-9ec1cf836ae1>\u001b[0m in \u001b[0;36minterface\u001b[0;34m()\u001b[0m\n\u001b[1;32m      6\u001b[0m         \u001b[0mprint\u001b[0m\u001b[0;34m(\u001b[0m\u001b[0mi\u001b[0m\u001b[0;34m,\u001b[0m \u001b[0mrepr\u001b[0m\u001b[0;34m(\u001b[0m\u001b[0mindividual\u001b[0m\u001b[0;34m.\u001b[0m\u001b[0mgene\u001b[0m\u001b[0;34m.\u001b[0m\u001b[0mgenome\u001b[0m\u001b[0;34m)\u001b[0m\u001b[0;34m)\u001b[0m\u001b[0;34m\u001b[0m\u001b[0;34m\u001b[0m\u001b[0m\n\u001b[1;32m      7\u001b[0m     \u001b[0;32mwhile\u001b[0m \u001b[0;32mTrue\u001b[0m\u001b[0;34m:\u001b[0m\u001b[0;34m\u001b[0m\u001b[0;34m\u001b[0m\u001b[0m\n\u001b[0;32m----> 8\u001b[0;31m         \u001b[0mread\u001b[0m \u001b[0;34m=\u001b[0m \u001b[0minput\u001b[0m\u001b[0;34m(\u001b[0m\u001b[0;34m\"Listen synth [1-16] | [S]top synth | [R]eproduce | Fitness : [1-16]=[0.0-1.0] \\n>>> \"\u001b[0m\u001b[0;34m)\u001b[0m\u001b[0;34m\u001b[0m\u001b[0;34m\u001b[0m\u001b[0m\n\u001b[0m\u001b[1;32m      9\u001b[0m         \u001b[0;32mif\u001b[0m \u001b[0mread\u001b[0m \u001b[0;34m==\u001b[0m \u001b[0;34m\"S\"\u001b[0m \u001b[0;32mor\u001b[0m \u001b[0mread\u001b[0m \u001b[0;34m==\u001b[0m \u001b[0;34m\"s\"\u001b[0m\u001b[0;34m:\u001b[0m\u001b[0;34m\u001b[0m\u001b[0;34m\u001b[0m\u001b[0m\n\u001b[1;32m     10\u001b[0m             \u001b[0msynth\u001b[0m\u001b[0;34m.\u001b[0m\u001b[0mstop\u001b[0m\u001b[0;34m(\u001b[0m\u001b[0;34m)\u001b[0m\u001b[0;34m\u001b[0m\u001b[0;34m\u001b[0m\u001b[0m\n",
      "\u001b[0;32m/usr/local/lib/python3.6/dist-packages/ipykernel/kernelbase.py\u001b[0m in \u001b[0;36mraw_input\u001b[0;34m(self, prompt)\u001b[0m\n\u001b[1;32m    851\u001b[0m             \u001b[0mself\u001b[0m\u001b[0;34m.\u001b[0m\u001b[0m_parent_ident\u001b[0m\u001b[0;34m,\u001b[0m\u001b[0;34m\u001b[0m\u001b[0;34m\u001b[0m\u001b[0m\n\u001b[1;32m    852\u001b[0m             \u001b[0mself\u001b[0m\u001b[0;34m.\u001b[0m\u001b[0m_parent_header\u001b[0m\u001b[0;34m,\u001b[0m\u001b[0;34m\u001b[0m\u001b[0;34m\u001b[0m\u001b[0m\n\u001b[0;32m--> 853\u001b[0;31m             \u001b[0mpassword\u001b[0m\u001b[0;34m=\u001b[0m\u001b[0;32mFalse\u001b[0m\u001b[0;34m,\u001b[0m\u001b[0;34m\u001b[0m\u001b[0;34m\u001b[0m\u001b[0m\n\u001b[0m\u001b[1;32m    854\u001b[0m         )\n\u001b[1;32m    855\u001b[0m \u001b[0;34m\u001b[0m\u001b[0m\n",
      "\u001b[0;32m/usr/local/lib/python3.6/dist-packages/ipykernel/kernelbase.py\u001b[0m in \u001b[0;36m_input_request\u001b[0;34m(self, prompt, ident, parent, password)\u001b[0m\n\u001b[1;32m    881\u001b[0m             \u001b[0;32mexcept\u001b[0m \u001b[0mKeyboardInterrupt\u001b[0m\u001b[0;34m:\u001b[0m\u001b[0;34m\u001b[0m\u001b[0;34m\u001b[0m\u001b[0m\n\u001b[1;32m    882\u001b[0m                 \u001b[0;31m# re-raise KeyboardInterrupt, to truncate traceback\u001b[0m\u001b[0;34m\u001b[0m\u001b[0;34m\u001b[0m\u001b[0;34m\u001b[0m\u001b[0m\n\u001b[0;32m--> 883\u001b[0;31m                 \u001b[0;32mraise\u001b[0m \u001b[0mKeyboardInterrupt\u001b[0m\u001b[0;34m\u001b[0m\u001b[0;34m\u001b[0m\u001b[0m\n\u001b[0m\u001b[1;32m    884\u001b[0m             \u001b[0;32melse\u001b[0m\u001b[0;34m:\u001b[0m\u001b[0;34m\u001b[0m\u001b[0;34m\u001b[0m\u001b[0m\n\u001b[1;32m    885\u001b[0m                 \u001b[0;32mbreak\u001b[0m\u001b[0;34m\u001b[0m\u001b[0;34m\u001b[0m\u001b[0m\n",
      "\u001b[0;31mKeyboardInterrupt\u001b[0m: "
     ]
    }
   ],
   "source": [
    "# Generate population and launch the interface\n",
    "population = gep.Population()\n",
    "population.generate(16, pset, 16)\n",
    "interface()"
   ]
  },
  {
   "cell_type": "code",
   "execution_count": null,
   "metadata": {},
   "outputs": [],
   "source": []
  }
 ],
 "metadata": {
  "kernelspec": {
   "display_name": "Python 3",
   "language": "python",
   "name": "python3"
  },
  "language_info": {
   "codemirror_mode": {
    "name": "ipython",
    "version": 3
   },
   "file_extension": ".py",
   "mimetype": "text/x-python",
   "name": "python",
   "nbconvert_exporter": "python",
   "pygments_lexer": "ipython3",
   "version": "3.6.8"
  }
 },
 "nbformat": 4,
 "nbformat_minor": 2
}
